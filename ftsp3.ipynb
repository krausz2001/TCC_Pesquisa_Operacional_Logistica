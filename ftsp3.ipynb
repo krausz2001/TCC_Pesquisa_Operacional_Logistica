{
 "cells": [
  {
   "cell_type": "code",
   "execution_count": 2,
   "metadata": {},
   "outputs": [
    {
     "data": {
      "text/plain": [
       "' \\n!pip install numpy\\n!pip install matplotlib\\n!pip install pandas\\n!pip install openpyxl\\n!pip install networkx\\n'"
      ]
     },
     "execution_count": 2,
     "metadata": {},
     "output_type": "execute_result"
    }
   ],
   "source": [
    "''' \n",
    "!pip install numpy\n",
    "!pip install matplotlib\n",
    "!pip install pandas\n",
    "!pip install openpyxl\n",
    "!pip install networkx\n",
    "'''"
   ]
  },
  {
   "cell_type": "code",
   "execution_count": 3,
   "metadata": {},
   "outputs": [],
   "source": [
    "#!python.exe -m pip install --upgrade pip"
   ]
  },
  {
   "cell_type": "markdown",
   "metadata": {
    "id": "BCWBcLlWx4jR"
   },
   "source": [
    "#Set, Parameters"
   ]
  },
  {
   "cell_type": "code",
   "execution_count": 1,
   "metadata": {},
   "outputs": [
    {
     "name": "stdout",
     "output_type": "stream",
     "text": [
      " Obrigatórias: 15 \n",
      " Não obrigatórias: 11\n"
     ]
    }
   ],
   "source": [
    "import pandas as pd\n",
    "\n",
    "# Carregar o arquivo Excel\n",
    "#file_path = \"H:/Meu Drive/UFSCar/2024.1/1. Projeto de Monografia/9. CPLEX/Data/dados.xlsx\"\n",
    "#file_path = \"H:/Meu Drive/UFSCar/2024.1/1. Projeto de Monografia/9. CPLEX/Data/dados_poucos_18_22.xlsx\"\n",
    "file_path = \"H:/Meu Drive/UFSCar/2024.1/1. Projeto de Monografia/9. CPLEX/Data/dados_poucos - Copia.xlsx\"\n",
    "#file_path = \"H:/Meu Drive/UFSCar/2024.1/1. Projeto de Monografia/9. CPLEX/Data/dados_grande_sp.xlsx\"\n",
    "df = pd.read_excel(file_path,sheet_name=\"Sheet1\")\n",
    "\n",
    "# Exibir o conteúdo do DataFrame\n",
    "#print(df)\n",
    "\n",
    "\n",
    "N=df['Tarefa'].to_list()\n",
    "\n",
    "#latitude x longitude y\n",
    "coord_x = df['Latitude'].to_list()\n",
    "coord_y = df['Longitude'].to_list()\n",
    "\n",
    "o=df['Obrigatoriedade'].to_list()\n",
    "p=df['Prioridade'].to_list()\n",
    "ts=df['Tempo de Setup'].to_list()\n",
    "tp=df['Tempo de Processamento'].to_list()\n",
    "print(' Obrigatórias:',sum(o),'\\n Não obrigatórias:',len(o)-sum(o))\n",
    "\n",
    "K = [0,1,2]\n",
    "#[0,1,2,3,4,5,6]\n",
    "col=['Equipe A','Equipe B','Equipe C']\n",
    "#['Equipe A','Equipe B','Equipe C','Equipe D','Equipe E','Equipe F','Equipe G']\n",
    "\n",
    "h=df[col].values.tolist()"
   ]
  },
  {
   "cell_type": "code",
   "execution_count": 2,
   "metadata": {},
   "outputs": [
    {
     "data": {
      "text/html": [
       "<div>\n",
       "<style scoped>\n",
       "    .dataframe tbody tr th:only-of-type {\n",
       "        vertical-align: middle;\n",
       "    }\n",
       "\n",
       "    .dataframe tbody tr th {\n",
       "        vertical-align: top;\n",
       "    }\n",
       "\n",
       "    .dataframe thead th {\n",
       "        text-align: right;\n",
       "    }\n",
       "</style>\n",
       "<table border=\"1\" class=\"dataframe\">\n",
       "  <thead>\n",
       "    <tr style=\"text-align: right;\">\n",
       "      <th></th>\n",
       "      <th>Tarefa</th>\n",
       "      <th>Local</th>\n",
       "      <th>Latitude</th>\n",
       "      <th>Longitude</th>\n",
       "      <th>Obrigatoriedade</th>\n",
       "      <th>Prioridade</th>\n",
       "      <th>Tempo de Setup</th>\n",
       "      <th>Tempo de Processamento</th>\n",
       "      <th>Horário de Início</th>\n",
       "      <th>Horário Final</th>\n",
       "      <th>Equipe A</th>\n",
       "      <th>Equipe B</th>\n",
       "      <th>Equipe C</th>\n",
       "      <th>Equipe D</th>\n",
       "      <th>Equipe E</th>\n",
       "      <th>Equipe F</th>\n",
       "      <th>Unnamed: 16</th>\n",
       "    </tr>\n",
       "  </thead>\n",
       "  <tbody>\n",
       "    <tr>\n",
       "      <th>0</th>\n",
       "      <td>0</td>\n",
       "      <td>Base</td>\n",
       "      <td>-23.545801</td>\n",
       "      <td>-46.650884</td>\n",
       "      <td>1</td>\n",
       "      <td>0</td>\n",
       "      <td>0.0</td>\n",
       "      <td>0.0</td>\n",
       "      <td>NaN</td>\n",
       "      <td>NaN</td>\n",
       "      <td>1</td>\n",
       "      <td>1</td>\n",
       "      <td>1</td>\n",
       "      <td>1</td>\n",
       "      <td>1</td>\n",
       "      <td>0</td>\n",
       "      <td>NaN</td>\n",
       "    </tr>\n",
       "    <tr>\n",
       "      <th>1</th>\n",
       "      <td>1</td>\n",
       "      <td>Ibirapuera Park</td>\n",
       "      <td>-23.527416</td>\n",
       "      <td>-46.717634</td>\n",
       "      <td>0</td>\n",
       "      <td>7</td>\n",
       "      <td>50.0</td>\n",
       "      <td>50.0</td>\n",
       "      <td>08:00</td>\n",
       "      <td>18:00</td>\n",
       "      <td>0</td>\n",
       "      <td>1</td>\n",
       "      <td>1</td>\n",
       "      <td>0</td>\n",
       "      <td>0</td>\n",
       "      <td>0</td>\n",
       "      <td>NaN</td>\n",
       "    </tr>\n",
       "    <tr>\n",
       "      <th>2</th>\n",
       "      <td>2</td>\n",
       "      <td>São Paulo Cathedral</td>\n",
       "      <td>-23.550520</td>\n",
       "      <td>-46.633308</td>\n",
       "      <td>0</td>\n",
       "      <td>3</td>\n",
       "      <td>50.0</td>\n",
       "      <td>112.5</td>\n",
       "      <td>10:00</td>\n",
       "      <td>18:00</td>\n",
       "      <td>0</td>\n",
       "      <td>1</td>\n",
       "      <td>1</td>\n",
       "      <td>0</td>\n",
       "      <td>0</td>\n",
       "      <td>1</td>\n",
       "      <td>NaN</td>\n",
       "    </tr>\n",
       "    <tr>\n",
       "      <th>3</th>\n",
       "      <td>3</td>\n",
       "      <td>Municipal Market</td>\n",
       "      <td>-23.541144</td>\n",
       "      <td>-46.627816</td>\n",
       "      <td>1</td>\n",
       "      <td>8</td>\n",
       "      <td>50.0</td>\n",
       "      <td>75.0</td>\n",
       "      <td>08:00</td>\n",
       "      <td>18:00</td>\n",
       "      <td>0</td>\n",
       "      <td>1</td>\n",
       "      <td>0</td>\n",
       "      <td>1</td>\n",
       "      <td>1</td>\n",
       "      <td>1</td>\n",
       "      <td>NaN</td>\n",
       "    </tr>\n",
       "    <tr>\n",
       "      <th>4</th>\n",
       "      <td>4</td>\n",
       "      <td>Liberdade</td>\n",
       "      <td>-23.558557</td>\n",
       "      <td>-46.634369</td>\n",
       "      <td>1</td>\n",
       "      <td>6</td>\n",
       "      <td>37.5</td>\n",
       "      <td>62.5</td>\n",
       "      <td>08:00</td>\n",
       "      <td>13:30</td>\n",
       "      <td>1</td>\n",
       "      <td>1</td>\n",
       "      <td>1</td>\n",
       "      <td>1</td>\n",
       "      <td>1</td>\n",
       "      <td>1</td>\n",
       "      <td>NaN</td>\n",
       "    </tr>\n",
       "    <tr>\n",
       "      <th>5</th>\n",
       "      <td>5</td>\n",
       "      <td>Pinacoteca do Estado</td>\n",
       "      <td>-23.534310</td>\n",
       "      <td>-46.633853</td>\n",
       "      <td>1</td>\n",
       "      <td>5</td>\n",
       "      <td>50.0</td>\n",
       "      <td>100.0</td>\n",
       "      <td>08:00</td>\n",
       "      <td>12:00</td>\n",
       "      <td>0</td>\n",
       "      <td>1</td>\n",
       "      <td>1</td>\n",
       "      <td>1</td>\n",
       "      <td>1</td>\n",
       "      <td>0</td>\n",
       "      <td>NaN</td>\n",
       "    </tr>\n",
       "    <tr>\n",
       "      <th>6</th>\n",
       "      <td>6</td>\n",
       "      <td>Museum of Art of São Paulo (MASP)</td>\n",
       "      <td>-23.561414</td>\n",
       "      <td>-46.655881</td>\n",
       "      <td>1</td>\n",
       "      <td>7</td>\n",
       "      <td>40.0</td>\n",
       "      <td>112.5</td>\n",
       "      <td>08:00</td>\n",
       "      <td>18:00</td>\n",
       "      <td>1</td>\n",
       "      <td>0</td>\n",
       "      <td>1</td>\n",
       "      <td>0</td>\n",
       "      <td>1</td>\n",
       "      <td>0</td>\n",
       "      <td>NaN</td>\n",
       "    </tr>\n",
       "    <tr>\n",
       "      <th>7</th>\n",
       "      <td>7</td>\n",
       "      <td>Municipal Theatre of São Paulo</td>\n",
       "      <td>-23.545614</td>\n",
       "      <td>-46.638369</td>\n",
       "      <td>0</td>\n",
       "      <td>3</td>\n",
       "      <td>37.5</td>\n",
       "      <td>75.0</td>\n",
       "      <td>10:00</td>\n",
       "      <td>18:00</td>\n",
       "      <td>1</td>\n",
       "      <td>0</td>\n",
       "      <td>0</td>\n",
       "      <td>1</td>\n",
       "      <td>1</td>\n",
       "      <td>1</td>\n",
       "      <td>NaN</td>\n",
       "    </tr>\n",
       "    <tr>\n",
       "      <th>8</th>\n",
       "      <td>8</td>\n",
       "      <td>Football Museum</td>\n",
       "      <td>-23.547432</td>\n",
       "      <td>-46.665842</td>\n",
       "      <td>1</td>\n",
       "      <td>8</td>\n",
       "      <td>50.0</td>\n",
       "      <td>50.0</td>\n",
       "      <td>08:00</td>\n",
       "      <td>18:00</td>\n",
       "      <td>1</td>\n",
       "      <td>1</td>\n",
       "      <td>1</td>\n",
       "      <td>1</td>\n",
       "      <td>0</td>\n",
       "      <td>0</td>\n",
       "      <td>NaN</td>\n",
       "    </tr>\n",
       "    <tr>\n",
       "      <th>9</th>\n",
       "      <td>9</td>\n",
       "      <td>Villa-Lobos Park</td>\n",
       "      <td>-23.545632</td>\n",
       "      <td>-46.722789</td>\n",
       "      <td>1</td>\n",
       "      <td>6</td>\n",
       "      <td>42.5</td>\n",
       "      <td>52.5</td>\n",
       "      <td>08:00</td>\n",
       "      <td>13:30</td>\n",
       "      <td>0</td>\n",
       "      <td>1</td>\n",
       "      <td>1</td>\n",
       "      <td>0</td>\n",
       "      <td>1</td>\n",
       "      <td>1</td>\n",
       "      <td>NaN</td>\n",
       "    </tr>\n",
       "    <tr>\n",
       "      <th>10</th>\n",
       "      <td>10</td>\n",
       "      <td>Butantan Institute</td>\n",
       "      <td>-23.570127</td>\n",
       "      <td>-46.724418</td>\n",
       "      <td>1</td>\n",
       "      <td>5</td>\n",
       "      <td>62.5</td>\n",
       "      <td>87.5</td>\n",
       "      <td>09:00</td>\n",
       "      <td>17:00</td>\n",
       "      <td>1</td>\n",
       "      <td>0</td>\n",
       "      <td>0</td>\n",
       "      <td>0</td>\n",
       "      <td>0</td>\n",
       "      <td>1</td>\n",
       "      <td>NaN</td>\n",
       "    </tr>\n",
       "    <tr>\n",
       "      <th>11</th>\n",
       "      <td>11</td>\n",
       "      <td>Latin America Memorial</td>\n",
       "      <td>-23.527430</td>\n",
       "      <td>-46.663804</td>\n",
       "      <td>0</td>\n",
       "      <td>1</td>\n",
       "      <td>45.0</td>\n",
       "      <td>75.0</td>\n",
       "      <td>10:30</td>\n",
       "      <td>19:00</td>\n",
       "      <td>1</td>\n",
       "      <td>1</td>\n",
       "      <td>0</td>\n",
       "      <td>0</td>\n",
       "      <td>0</td>\n",
       "      <td>1</td>\n",
       "      <td>NaN</td>\n",
       "    </tr>\n",
       "    <tr>\n",
       "      <th>12</th>\n",
       "      <td>12</td>\n",
       "      <td>Beco do Batman</td>\n",
       "      <td>-23.561239</td>\n",
       "      <td>-46.679546</td>\n",
       "      <td>1</td>\n",
       "      <td>3</td>\n",
       "      <td>12.5</td>\n",
       "      <td>125.0</td>\n",
       "      <td>10:30</td>\n",
       "      <td>19:00</td>\n",
       "      <td>0</td>\n",
       "      <td>1</td>\n",
       "      <td>0</td>\n",
       "      <td>1</td>\n",
       "      <td>0</td>\n",
       "      <td>0</td>\n",
       "      <td>NaN</td>\n",
       "    </tr>\n",
       "    <tr>\n",
       "      <th>13</th>\n",
       "      <td>13</td>\n",
       "      <td>Altino Arantes Building</td>\n",
       "      <td>-23.546224</td>\n",
       "      <td>-46.633678</td>\n",
       "      <td>1</td>\n",
       "      <td>5</td>\n",
       "      <td>62.5</td>\n",
       "      <td>75.0</td>\n",
       "      <td>10:30</td>\n",
       "      <td>19:00</td>\n",
       "      <td>0</td>\n",
       "      <td>1</td>\n",
       "      <td>0</td>\n",
       "      <td>1</td>\n",
       "      <td>0</td>\n",
       "      <td>1</td>\n",
       "      <td>1.0</td>\n",
       "    </tr>\n",
       "    <tr>\n",
       "      <th>14</th>\n",
       "      <td>14</td>\n",
       "      <td>Avenida Paulista</td>\n",
       "      <td>-23.561684</td>\n",
       "      <td>-46.655481</td>\n",
       "      <td>1</td>\n",
       "      <td>7</td>\n",
       "      <td>50.0</td>\n",
       "      <td>50.0</td>\n",
       "      <td>NaN</td>\n",
       "      <td>NaN</td>\n",
       "      <td>1</td>\n",
       "      <td>1</td>\n",
       "      <td>1</td>\n",
       "      <td>0</td>\n",
       "      <td>1</td>\n",
       "      <td>1</td>\n",
       "      <td>1.0</td>\n",
       "    </tr>\n",
       "    <tr>\n",
       "      <th>15</th>\n",
       "      <td>15</td>\n",
       "      <td>Parque da Água Branca</td>\n",
       "      <td>-23.526262</td>\n",
       "      <td>-46.673578</td>\n",
       "      <td>1</td>\n",
       "      <td>7</td>\n",
       "      <td>50.0</td>\n",
       "      <td>112.5</td>\n",
       "      <td>NaN</td>\n",
       "      <td>NaN</td>\n",
       "      <td>1</td>\n",
       "      <td>1</td>\n",
       "      <td>1</td>\n",
       "      <td>1</td>\n",
       "      <td>0</td>\n",
       "      <td>0</td>\n",
       "      <td>0.0</td>\n",
       "    </tr>\n",
       "    <tr>\n",
       "      <th>16</th>\n",
       "      <td>16</td>\n",
       "      <td>Edifício Copan</td>\n",
       "      <td>-23.548966</td>\n",
       "      <td>-46.643844</td>\n",
       "      <td>1</td>\n",
       "      <td>7</td>\n",
       "      <td>50.0</td>\n",
       "      <td>75.0</td>\n",
       "      <td>NaN</td>\n",
       "      <td>NaN</td>\n",
       "      <td>1</td>\n",
       "      <td>0</td>\n",
       "      <td>0</td>\n",
       "      <td>1</td>\n",
       "      <td>1</td>\n",
       "      <td>1</td>\n",
       "      <td>1.0</td>\n",
       "    </tr>\n",
       "    <tr>\n",
       "      <th>17</th>\n",
       "      <td>17</td>\n",
       "      <td>Teatro Municipal de São Paulo</td>\n",
       "      <td>-23.546201</td>\n",
       "      <td>-46.638759</td>\n",
       "      <td>1</td>\n",
       "      <td>8</td>\n",
       "      <td>37.5</td>\n",
       "      <td>62.5</td>\n",
       "      <td>NaN</td>\n",
       "      <td>NaN</td>\n",
       "      <td>0</td>\n",
       "      <td>1</td>\n",
       "      <td>1</td>\n",
       "      <td>0</td>\n",
       "      <td>0</td>\n",
       "      <td>0</td>\n",
       "      <td>1.0</td>\n",
       "    </tr>\n",
       "    <tr>\n",
       "      <th>18</th>\n",
       "      <td>18</td>\n",
       "      <td>Mosteiro de São Bento</td>\n",
       "      <td>-23.545169</td>\n",
       "      <td>-46.633576</td>\n",
       "      <td>0</td>\n",
       "      <td>8</td>\n",
       "      <td>50.0</td>\n",
       "      <td>100.0</td>\n",
       "      <td>NaN</td>\n",
       "      <td>NaN</td>\n",
       "      <td>0</td>\n",
       "      <td>1</td>\n",
       "      <td>1</td>\n",
       "      <td>1</td>\n",
       "      <td>1</td>\n",
       "      <td>0</td>\n",
       "      <td>1.0</td>\n",
       "    </tr>\n",
       "    <tr>\n",
       "      <th>19</th>\n",
       "      <td>19</td>\n",
       "      <td>Estação da Luz</td>\n",
       "      <td>-23.536190</td>\n",
       "      <td>-46.633841</td>\n",
       "      <td>0</td>\n",
       "      <td>3</td>\n",
       "      <td>40.0</td>\n",
       "      <td>112.5</td>\n",
       "      <td>NaN</td>\n",
       "      <td>NaN</td>\n",
       "      <td>1</td>\n",
       "      <td>1</td>\n",
       "      <td>0</td>\n",
       "      <td>1</td>\n",
       "      <td>1</td>\n",
       "      <td>1</td>\n",
       "      <td>1.0</td>\n",
       "    </tr>\n",
       "    <tr>\n",
       "      <th>20</th>\n",
       "      <td>20</td>\n",
       "      <td>Parque do Carmo</td>\n",
       "      <td>-23.575914</td>\n",
       "      <td>-46.487712</td>\n",
       "      <td>0</td>\n",
       "      <td>4</td>\n",
       "      <td>37.5</td>\n",
       "      <td>75.0</td>\n",
       "      <td>NaN</td>\n",
       "      <td>NaN</td>\n",
       "      <td>1</td>\n",
       "      <td>0</td>\n",
       "      <td>1</td>\n",
       "      <td>0</td>\n",
       "      <td>1</td>\n",
       "      <td>1</td>\n",
       "      <td>1.0</td>\n",
       "    </tr>\n",
       "    <tr>\n",
       "      <th>21</th>\n",
       "      <td>21</td>\n",
       "      <td>Memorial da Resistência</td>\n",
       "      <td>-23.537196</td>\n",
       "      <td>-46.633194</td>\n",
       "      <td>0</td>\n",
       "      <td>2</td>\n",
       "      <td>50.0</td>\n",
       "      <td>50.0</td>\n",
       "      <td>NaN</td>\n",
       "      <td>NaN</td>\n",
       "      <td>1</td>\n",
       "      <td>1</td>\n",
       "      <td>1</td>\n",
       "      <td>1</td>\n",
       "      <td>1</td>\n",
       "      <td>0</td>\n",
       "      <td>0.0</td>\n",
       "    </tr>\n",
       "    <tr>\n",
       "      <th>22</th>\n",
       "      <td>22</td>\n",
       "      <td>Estádio do Morumbi (São Paulo FC)</td>\n",
       "      <td>-23.600273</td>\n",
       "      <td>-46.719508</td>\n",
       "      <td>0</td>\n",
       "      <td>7</td>\n",
       "      <td>42.5</td>\n",
       "      <td>52.5</td>\n",
       "      <td>NaN</td>\n",
       "      <td>NaN</td>\n",
       "      <td>1</td>\n",
       "      <td>1</td>\n",
       "      <td>0</td>\n",
       "      <td>1</td>\n",
       "      <td>0</td>\n",
       "      <td>0</td>\n",
       "      <td>0.0</td>\n",
       "    </tr>\n",
       "    <tr>\n",
       "      <th>23</th>\n",
       "      <td>23</td>\n",
       "      <td>Allianz Parque (Palmeiras)</td>\n",
       "      <td>-23.527345</td>\n",
       "      <td>-46.678019</td>\n",
       "      <td>0</td>\n",
       "      <td>5</td>\n",
       "      <td>62.5</td>\n",
       "      <td>87.5</td>\n",
       "      <td>NaN</td>\n",
       "      <td>NaN</td>\n",
       "      <td>0</td>\n",
       "      <td>0</td>\n",
       "      <td>1</td>\n",
       "      <td>1</td>\n",
       "      <td>1</td>\n",
       "      <td>1</td>\n",
       "      <td>0.0</td>\n",
       "    </tr>\n",
       "    <tr>\n",
       "      <th>24</th>\n",
       "      <td>24</td>\n",
       "      <td>Arena Corinthians (Itaquera)</td>\n",
       "      <td>-23.545382</td>\n",
       "      <td>-46.474452</td>\n",
       "      <td>1</td>\n",
       "      <td>2</td>\n",
       "      <td>45.0</td>\n",
       "      <td>75.0</td>\n",
       "      <td>NaN</td>\n",
       "      <td>NaN</td>\n",
       "      <td>0</td>\n",
       "      <td>1</td>\n",
       "      <td>1</td>\n",
       "      <td>1</td>\n",
       "      <td>1</td>\n",
       "      <td>1</td>\n",
       "      <td>1.0</td>\n",
       "    </tr>\n",
       "    <tr>\n",
       "      <th>25</th>\n",
       "      <td>25</td>\n",
       "      <td>Canindé (Portuguesa)</td>\n",
       "      <td>-23.521504</td>\n",
       "      <td>-46.621714</td>\n",
       "      <td>0</td>\n",
       "      <td>1</td>\n",
       "      <td>12.5</td>\n",
       "      <td>125.0</td>\n",
       "      <td>NaN</td>\n",
       "      <td>NaN</td>\n",
       "      <td>1</td>\n",
       "      <td>1</td>\n",
       "      <td>1</td>\n",
       "      <td>1</td>\n",
       "      <td>0</td>\n",
       "      <td>1</td>\n",
       "      <td>0.0</td>\n",
       "    </tr>\n",
       "  </tbody>\n",
       "</table>\n",
       "</div>"
      ],
      "text/plain": [
       "    Tarefa                              Local   Latitude  Longitude  \\\n",
       "0        0                               Base -23.545801 -46.650884   \n",
       "1        1                    Ibirapuera Park -23.527416 -46.717634   \n",
       "2        2                São Paulo Cathedral -23.550520 -46.633308   \n",
       "3        3                   Municipal Market -23.541144 -46.627816   \n",
       "4        4                          Liberdade -23.558557 -46.634369   \n",
       "5        5               Pinacoteca do Estado -23.534310 -46.633853   \n",
       "6        6  Museum of Art of São Paulo (MASP) -23.561414 -46.655881   \n",
       "7        7     Municipal Theatre of São Paulo -23.545614 -46.638369   \n",
       "8        8                    Football Museum -23.547432 -46.665842   \n",
       "9        9                   Villa-Lobos Park -23.545632 -46.722789   \n",
       "10      10                 Butantan Institute -23.570127 -46.724418   \n",
       "11      11             Latin America Memorial -23.527430 -46.663804   \n",
       "12      12                     Beco do Batman -23.561239 -46.679546   \n",
       "13      13            Altino Arantes Building -23.546224 -46.633678   \n",
       "14      14                   Avenida Paulista -23.561684 -46.655481   \n",
       "15      15              Parque da Água Branca -23.526262 -46.673578   \n",
       "16      16                     Edifício Copan -23.548966 -46.643844   \n",
       "17      17      Teatro Municipal de São Paulo -23.546201 -46.638759   \n",
       "18      18              Mosteiro de São Bento -23.545169 -46.633576   \n",
       "19      19                     Estação da Luz -23.536190 -46.633841   \n",
       "20      20                    Parque do Carmo -23.575914 -46.487712   \n",
       "21      21            Memorial da Resistência -23.537196 -46.633194   \n",
       "22      22  Estádio do Morumbi (São Paulo FC) -23.600273 -46.719508   \n",
       "23      23         Allianz Parque (Palmeiras) -23.527345 -46.678019   \n",
       "24      24       Arena Corinthians (Itaquera) -23.545382 -46.474452   \n",
       "25      25               Canindé (Portuguesa) -23.521504 -46.621714   \n",
       "\n",
       "    Obrigatoriedade  Prioridade  Tempo de Setup  Tempo de Processamento  \\\n",
       "0                 1           0             0.0                     0.0   \n",
       "1                 0           7            50.0                    50.0   \n",
       "2                 0           3            50.0                   112.5   \n",
       "3                 1           8            50.0                    75.0   \n",
       "4                 1           6            37.5                    62.5   \n",
       "5                 1           5            50.0                   100.0   \n",
       "6                 1           7            40.0                   112.5   \n",
       "7                 0           3            37.5                    75.0   \n",
       "8                 1           8            50.0                    50.0   \n",
       "9                 1           6            42.5                    52.5   \n",
       "10                1           5            62.5                    87.5   \n",
       "11                0           1            45.0                    75.0   \n",
       "12                1           3            12.5                   125.0   \n",
       "13                1           5            62.5                    75.0   \n",
       "14                1           7            50.0                    50.0   \n",
       "15                1           7            50.0                   112.5   \n",
       "16                1           7            50.0                    75.0   \n",
       "17                1           8            37.5                    62.5   \n",
       "18                0           8            50.0                   100.0   \n",
       "19                0           3            40.0                   112.5   \n",
       "20                0           4            37.5                    75.0   \n",
       "21                0           2            50.0                    50.0   \n",
       "22                0           7            42.5                    52.5   \n",
       "23                0           5            62.5                    87.5   \n",
       "24                1           2            45.0                    75.0   \n",
       "25                0           1            12.5                   125.0   \n",
       "\n",
       "   Horário de Início Horário Final  Equipe A  Equipe B  Equipe C  Equipe D  \\\n",
       "0                NaN           NaN         1         1         1         1   \n",
       "1              08:00         18:00         0         1         1         0   \n",
       "2              10:00         18:00         0         1         1         0   \n",
       "3              08:00         18:00         0         1         0         1   \n",
       "4              08:00         13:30         1         1         1         1   \n",
       "5              08:00         12:00         0         1         1         1   \n",
       "6              08:00         18:00         1         0         1         0   \n",
       "7              10:00         18:00         1         0         0         1   \n",
       "8              08:00         18:00         1         1         1         1   \n",
       "9              08:00         13:30         0         1         1         0   \n",
       "10             09:00         17:00         1         0         0         0   \n",
       "11             10:30         19:00         1         1         0         0   \n",
       "12             10:30         19:00         0         1         0         1   \n",
       "13             10:30         19:00         0         1         0         1   \n",
       "14               NaN           NaN         1         1         1         0   \n",
       "15               NaN           NaN         1         1         1         1   \n",
       "16               NaN           NaN         1         0         0         1   \n",
       "17               NaN           NaN         0         1         1         0   \n",
       "18               NaN           NaN         0         1         1         1   \n",
       "19               NaN           NaN         1         1         0         1   \n",
       "20               NaN           NaN         1         0         1         0   \n",
       "21               NaN           NaN         1         1         1         1   \n",
       "22               NaN           NaN         1         1         0         1   \n",
       "23               NaN           NaN         0         0         1         1   \n",
       "24               NaN           NaN         0         1         1         1   \n",
       "25               NaN           NaN         1         1         1         1   \n",
       "\n",
       "    Equipe E  Equipe F  Unnamed: 16  \n",
       "0          1         0          NaN  \n",
       "1          0         0          NaN  \n",
       "2          0         1          NaN  \n",
       "3          1         1          NaN  \n",
       "4          1         1          NaN  \n",
       "5          1         0          NaN  \n",
       "6          1         0          NaN  \n",
       "7          1         1          NaN  \n",
       "8          0         0          NaN  \n",
       "9          1         1          NaN  \n",
       "10         0         1          NaN  \n",
       "11         0         1          NaN  \n",
       "12         0         0          NaN  \n",
       "13         0         1          1.0  \n",
       "14         1         1          1.0  \n",
       "15         0         0          0.0  \n",
       "16         1         1          1.0  \n",
       "17         0         0          1.0  \n",
       "18         1         0          1.0  \n",
       "19         1         1          1.0  \n",
       "20         1         1          1.0  \n",
       "21         1         0          0.0  \n",
       "22         0         0          0.0  \n",
       "23         1         1          0.0  \n",
       "24         1         1          1.0  \n",
       "25         0         1          0.0  "
      ]
     },
     "execution_count": 2,
     "metadata": {},
     "output_type": "execute_result"
    }
   ],
   "source": [
    "df"
   ]
  },
  {
   "cell_type": "markdown",
   "metadata": {},
   "source": [
    "# Mapa"
   ]
  },
  {
   "cell_type": "code",
   "execution_count": 5,
   "metadata": {},
   "outputs": [
    {
     "data": {
      "image/png": "[encoded data removed]",
      "text/plain": [
       "<Figure size 640x480 with 1 Axes>"
      ]
     },
     "metadata": {},
     "output_type": "display_data"
    }
   ],
   "source": [
    "import networkx as nx\n",
    "import matplotlib.pyplot as plt\n",
    "\n",
    "def desenhar_mapa_inicial():\n",
    "    # Criando o dicionário pos usando CoordX e CoordY como valores de posição\n",
    "    pos = {i: (coord_x[i], coord_y[i]) for i in range(len(coord_x))}\n",
    "        \n",
    "    G = nx.Graph()\n",
    "\n",
    "    # Adicionando nós para cada tarefa sem arestas\n",
    "    for i in range(len(coord_x)):  \n",
    "        G.add_node(i)\n",
    "\n",
    "    # Separando os nós obrigatórios e não obrigatórios\n",
    "    obrigatorios = [i for i in range(len(coord_x)) if o[i] == 1 and i!=0]\n",
    "    nao_obrigatorios = [i for i in range(len(coord_x)) if o[i] == 0]\n",
    "    base=[0]\n",
    "\n",
    "    # Desenhando os nós obrigatórios (redondos)\n",
    "    nx.draw_networkx_nodes(G, pos, nodelist=base, node_size=200, node_color=\"lightblue\", node_shape=\"o\", label='Base')\n",
    "    nx.draw_networkx_nodes(G, pos, nodelist=obrigatorios, node_size=200, node_color=\"lightgreen\", node_shape=\"o\", label='Obrigatório')\n",
    "    nx.draw_networkx_nodes(G, pos, nodelist=nao_obrigatorios, node_size=200, node_color=\"#FF6666\", node_shape=\"s\", label='Não Obrigatório')\n",
    "    \n",
    "\n",
    "    \n",
    "\n",
    "    nx.draw_networkx_labels(G, pos, font_size=10, font_color=\"black\")\n",
    "\n",
    "    # Adicionando a legenda\n",
    "    plt.legend(scatterpoints=1, loc='best',bbox_to_anchor=(1, 0.8))\n",
    "    \n",
    "    #plt.title(\"Mapa Inicial\")\n",
    "    plt.show()\n",
    "\n",
    "# Desenhar o mapa inicial apenas com os nós e suas posições\n",
    "desenhar_mapa_inicial()"
   ]
  },
  {
   "cell_type": "code",
   "execution_count": 6,
   "metadata": {},
   "outputs": [],
   "source": [
    "def desenhar_solucao(equipes, coord_x, coord_y):\n",
    "    # Criando o dicionário `pos` usando `CoordX` e `CoordY` como valores de posição\n",
    "    pos = {i: (coord_x[i], coord_y[i]) for i in range(len(coord_x))}\n",
    "        \n",
    "    G = nx.DiGraph()\n",
    "\n",
    "    # Adicionando nós para cada tarefa\n",
    "    for i in range(len(coord_x)):  \n",
    "        G.add_node(i)\n",
    "\n",
    "    # Adicionando as arestas conforme a solução fornecida\n",
    "    cores = [\"yellow\", \"orange\", \"purple\", \"orange\", \"purple\", \"brown\", \"pink\", \"gray\"]\n",
    "    labels = col\n",
    "\n",
    "    for k, (equipe, edges) in enumerate(equipes.items()):\n",
    "        G.add_edges_from(edges, color=cores[k], label=labels[k])\n",
    "\n",
    "    # Extraindo as cores das arestas\n",
    "    edges = G.edges()\n",
    "    colors = [G[u][v][\"color\"] for u, v in edges]\n",
    "\n",
    "    # Desenhando os nós obrigatórios (redondos)\n",
    "    obrigatorios = [i for i in range(len(coord_x)) if o[i] == 1 and i != 0]\n",
    "    nao_obrigatorios = [i for i in range(len(coord_x)) if o[i] == 0]\n",
    "    base = [0]\n",
    "\n",
    "    nx.draw_networkx_nodes(G, pos, nodelist=base, node_size=200, node_color=\"lightblue\", node_shape=\"o\", label='Base')\n",
    "    nx.draw_networkx_nodes(G, pos, nodelist=obrigatorios, node_size=200, node_color=\"lightgreen\", node_shape=\"o\", label='Obrigatório')\n",
    "    nx.draw_networkx_nodes(G, pos, nodelist=nao_obrigatorios, node_size=200, node_color=\"#FF6666\", node_shape=\"s\", label='Não Obrigatório')\n",
    "\n",
    "    # Desenhando os rótulos dos nós\n",
    "    nx.draw_networkx_labels(G, pos, font_size=10, font_color=\"black\")\n",
    "    \n",
    "    # Desenhando as arestas com cores diferentes por equipe\n",
    "    nx.draw_networkx_edges(G, pos, edgelist=edges, edge_color=colors, width=2)\n",
    "    \n",
    "    # Legenda manual\n",
    "    for i, label in enumerate(labels):\n",
    "        plt.plot([], [], color=cores[i], label=label)\n",
    "        plt.legend(loc=\"upper left\", fontsize=9,bbox_to_anchor=(1, 0.8))\n",
    "    \n",
    "    #plt.title(\"Solução de Roteamento por Equipe\")\n",
    "    plt.show()"
   ]
  },
  {
   "cell_type": "code",
   "execution_count": 7,
   "metadata": {},
   "outputs": [
    {
     "data": {
      "image/png": "[encoded data removed]",
      "text/plain": [
       "<Figure size 1000x600 with 1 Axes>"
      ]
     },
     "metadata": {},
     "output_type": "display_data"
    }
   ],
   "source": [
    "import matplotlib.pyplot as plt\n",
    "\n",
    "# Extract the makespan values for each team\n",
    "makespan_values = [200,190,211]\n",
    "#160,155,171\n",
    "\n",
    "# Create a horizontal bar chart\n",
    "plt.figure(figsize=(10, 6))\n",
    "plt.xlim(0, 500)\n",
    "plt.xticks(fontsize=15)\n",
    "plt.axvline(x=480, color='red', linestyle='--', linewidth=1, label='Expediente')\n",
    "plt.barh(range(len(K)), makespan_values, color='skyblue')\n",
    "plt.yticks(range(len(K)), [f'Equipe {k}' for k in K], fontsize=15)\n",
    "plt.xlabel('Makespan (minutos)', fontsize=15)\n",
    "#plt.title('Makespan das Equipes', fontsize=18)\n",
    "plt.grid(axis='x', linestyle='--', alpha=0.7,)\n",
    "plt.show()"
   ]
  },
  {
   "cell_type": "code",
   "execution_count": 8,
   "metadata": {},
   "outputs": [
    {
     "data": {
      "image/png": "[encoded data removed]",
      "text/plain": [
       "<Figure size 1000x600 with 1 Axes>"
      ]
     },
     "metadata": {},
     "output_type": "display_data"
    }
   ],
   "source": [
    "import matplotlib.pyplot as plt\n",
    "\n",
    "# Extract the makespan values for each team\n",
    "makespan_values = [300,330,310]\n",
    "\n",
    "# Create a horizontal bar chart\n",
    "plt.figure(figsize=(10, 6))\n",
    "plt.xlim(0, 500)\n",
    "plt.xticks(fontsize=15)\n",
    "plt.axvline(x=480, color='red', linestyle='--', linewidth=1, label='Expediente')\n",
    "plt.barh(range(len(K)), makespan_values, color='skyblue')\n",
    "plt.yticks(range(len(K)), [f'Equipe {k}' for k in K], fontsize=15)\n",
    "plt.xlabel('Makespan (minutos)', fontsize=15)\n",
    "#plt.title('Makespan das Equipes', fontsize=18)\n",
    "plt.grid(axis='x', linestyle='--', alpha=0.7,)\n",
    "plt.show()"
   ]
  },
  {
   "cell_type": "code",
   "execution_count": 9,
   "metadata": {},
   "outputs": [
    {
     "data": {
      "text/plain": [
       "np.float64(0.0070485854609248135)"
      ]
     },
     "execution_count": 9,
     "metadata": {},
     "output_type": "execute_result"
    }
   ],
   "source": [
    "import numpy as np\n",
    "np.sqrt((coord_x[2] - coord_x[7])**2 + (coord_y[2] - coord_y[7])**2)"
   ]
  },
  {
   "cell_type": "markdown",
   "metadata": {},
   "source": [
    "# Distâncias"
   ]
  },
  {
   "cell_type": "code",
   "execution_count": 10,
   "metadata": {},
   "outputs": [],
   "source": [
    "from math import radians, sin, cos, sqrt, atan2\n",
    "import numpy as np\n",
    "\n",
    "def haversine(lat1, lon1, lat2, lon2):\n",
    "    # Raio médio da Terra em km\n",
    "    R = 6371.0\n",
    "\n",
    "    # Converter coordenadas de graus para radianos\n",
    "    lat1 = radians(lat1)\n",
    "    lon1 = radians(lon1)\n",
    "    lat2 = radians(lat2)\n",
    "    lon2 = radians(lon2)\n",
    "\n",
    "    # Diferenças das coordenadas\n",
    "    dlat = lat2 - lat1\n",
    "    dlon = lon2 - lon1\n",
    "\n",
    "    # Fórmula de Haversine\n",
    "    a = sin(dlat / 2)**2 + cos(lat1) * cos(lat2) * sin(dlon / 2)**2\n",
    "    c = 2 * atan2(sqrt(a), sqrt(1 - a))\n",
    "\n",
    "    # Distância\n",
    "    distance = R * c\n",
    "    return distance\n",
    "\n",
    "# Número de nós\n",
    "num_nos = len(coord_x)\n",
    "\n",
    "# Inicializando a matriz de distâncias\n",
    "d = np.zeros((num_nos, num_nos))\n",
    "\n",
    "# Calculando a distância euclidiana entre cada par de nós\n",
    "for i in range(num_nos):\n",
    "    for j in range(num_nos):\n",
    "        d[i][j]=round(haversine(coord_x[i], coord_y[i], coord_x[j], coord_y[j]),2)\n",
    "#        d[i][j] = int(np.sqrt((coord_x[i] - coord_x[j])**2 + (coord_y[i] - coord_y[j])**2))\n",
    "\n",
    "df_d = pd.DataFrame(d,index=N,columns=N)"
   ]
  },
  {
   "cell_type": "markdown",
   "metadata": {},
   "source": [
    "# Tempo de Viagem"
   ]
  },
  {
   "cell_type": "code",
   "execution_count": 11,
   "metadata": {
    "colab": {
     "base_uri": "https://localhost:8080/",
     "height": 224
    },
    "id": "nyNh7iQepnfJ",
    "outputId": "6ffa6180-994c-42b1-c89d-63e5cadd13d6"
   },
   "outputs": [],
   "source": [
    "vel_media = 40  # km/h\n",
    "tt = ((d / vel_media) * 60).round(2)  # em minutos\n",
    "\n",
    "df_tt = pd.DataFrame(tt,index=N,columns=N)"
   ]
  },
  {
   "cell_type": "markdown",
   "metadata": {},
   "source": [
    "# Tempo: Viagem + (Setup) + Processamento "
   ]
  },
  {
   "cell_type": "code",
   "execution_count": 12,
   "metadata": {
    "colab": {
     "base_uri": "https://localhost:8080/"
    },
    "id": "W6sUDNtH9PEu",
    "outputId": "5c797d7b-5690-4bbb-89e2-b3a15acb05c1"
   },
   "outputs": [],
   "source": [
    "df_t=pd.DataFrame(index=N,columns=N)\n",
    "\n",
    "for i in range(len(N)):\n",
    "  for j in range(len(N)):\n",
    "    if i==j:\n",
    "      df_t.iloc[i, j]=0\n",
    "    elif d[i][j]>=100:\n",
    "       df_t.iloc[i, j]=tt[i][j] + ts[j] + tp[j]\n",
    "    else:\n",
    "       df_t.iloc[i, j]=tt[i][j] + tp[j]\n",
    "\n",
    "def t(i,j):\n",
    "  return df_t.iloc[i,j]\n",
    "\n",
    "t = df_t.values.tolist()"
   ]
  },
  {
   "cell_type": "markdown",
   "metadata": {},
   "source": [
    "## Closest Neighbor"
   ]
  },
  {
   "cell_type": "code",
   "execution_count": 13,
   "metadata": {},
   "outputs": [
    {
     "name": "stdout",
     "output_type": "stream",
     "text": [
      "Rotas geradas pelo algoritmo de vizinho mais próximo:\n",
      "Rota Equipe A: [0, 16, 4, 14, 15, 10, 0]\n",
      "Rota Equipe B: [0, 17, 13, 3, 12, 24, 0]\n",
      "Rota Equipe C: [0, 8, 6, 5, 9, 0]\n",
      "\n",
      "Tarefas atribuídas para cada equipe:\n",
      "Equipe A: [16, 4, 14, 15, 10]\n",
      "Equipe B: [17, 13, 3, 12, 24]\n",
      "Equipe C: [8, 6, 5, 9]\n"
     ]
    }
   ],
   "source": [
    "import pandas as pd\n",
    "import numpy as np\n",
    "\n",
    "def nearest_neighbor_with_team_capabilities(distances_df, tasks_df):\n",
    "    \n",
    "    # Filtra as tarefas obrigatórias\n",
    "    mandatory_tasks = tasks_df[tasks_df['Obrigatoriedade'] == 1]\n",
    "    mandatory_task_indices = mandatory_tasks.index.tolist()\n",
    "    \n",
    "    # Inicializa a lista de rotas para as equipes\n",
    "    routes = {team: [0] for team in col}\n",
    "    \n",
    "    # Dicionário para registrar quais tarefas foram feitas por qual equipe\n",
    "    team_assigned_tasks = {team: [] for team in col}\n",
    "    \n",
    "    # Lista de tarefas já visitadas\n",
    "    visited_tasks = set([0])\n",
    "    \n",
    "    # Alocação de tarefas\n",
    "    while len(visited_tasks) < len(mandatory_tasks):\n",
    "        for team in col:\n",
    "            last_task = routes[team][-1]\n",
    "            \n",
    "            # Encontrar o vizinho mais próximo para a equipe\n",
    "            closest_task = None\n",
    "            min_distance = float('inf')\n",
    "            \n",
    "            for task in mandatory_task_indices:\n",
    "                if task not in visited_tasks and tasks_df.loc[task, team] == 1:\n",
    "                    dist = distances_df.loc[last_task, task]\n",
    "                    if dist < min_distance:\n",
    "                        min_distance = dist\n",
    "                        closest_task = task\n",
    "            \n",
    "            if closest_task is not None:\n",
    "                # Adiciona a tarefa à rota da equipe\n",
    "                routes[team].append(closest_task)\n",
    "                visited_tasks.add(closest_task)\n",
    "                team_assigned_tasks[team].append(closest_task)\n",
    "    \n",
    "    # Retorno ao ponto inicial\n",
    "    for team in col:\n",
    "        routes[team].append(0)  # Retorna ao depot (tarefa 0)\n",
    "    \n",
    "    return routes, team_assigned_tasks\n",
    "\n",
    "\n",
    "# Chama a função para obter as rotas\n",
    "routes, team_assigned_tasks = nearest_neighbor_with_team_capabilities(df_d, df)\n",
    "\n",
    "# Imprime as rotas\n",
    "print(\"Rotas geradas pelo algoritmo de vizinho mais próximo:\")\n",
    "for team, route in routes.items():\n",
    "    print(f\"Rota {team}: {route}\")\n",
    "\n",
    "# Imprime as tarefas atribuídas para cada equipe\n",
    "print(\"\\nTarefas atribuídas para cada equipe:\")\n",
    "for team, assigned_tasks in team_assigned_tasks.items():\n",
    "    print(f\"{team}: {assigned_tasks}\")\n",
    "\n",
    "# transformando tupla em lista\n",
    "sol_closest_neighbor=nearest_neighbor_with_team_capabilities(df_d, df)\n",
    "sol_closest_neighbor=list(sol_closest_neighbor[0].values())"
   ]
  },
  {
   "cell_type": "code",
   "execution_count": 14,
   "metadata": {},
   "outputs": [
    {
     "name": "stdout",
     "output_type": "stream",
     "text": [
      "Makespan: 483.4200000000001\n"
     ]
    }
   ],
   "source": [
    "# Makespan\n",
    "makespan = max([sum([t[i][j] for i, j in zip(route, route[1:])]) for route in sol_closest_neighbor])\n",
    "print(\"Makespan:\", makespan)"
   ]
  },
  {
   "cell_type": "markdown",
   "metadata": {
    "id": "suEeUnXCysXr"
   },
   "source": [
    "# CPLEX"
   ]
  },
  {
   "cell_type": "code",
   "execution_count": 15,
   "metadata": {
    "colab": {
     "base_uri": "https://localhost:8080/"
    },
    "id": "miotg7GE0SJR",
    "outputId": "d8535107-6eb1-4a52-c5d0-54dbc5c1e7fc"
   },
   "outputs": [],
   "source": [
    "#!pip install docplex\n",
    "#!pip install matplotlib\n",
    "#!pip install networkx"
   ]
  },
  {
   "cell_type": "code",
   "execution_count": 16,
   "metadata": {
    "id": "BgR_tphK6GGV"
   },
   "outputs": [],
   "source": [
    "from docplex.mp.model import Model\n",
    "import docplex.cp.solver.solver as solver\n",
    "from itertools import combinations"
   ]
  },
  {
   "cell_type": "code",
   "execution_count": 17,
   "metadata": {
    "colab": {
     "base_uri": "https://localhost:8080/"
    },
    "id": "DpoxaUPszzkm",
    "outputId": "d4dbda98-1e8a-44d6-ce97-460d2962a18e"
   },
   "outputs": [
    {
     "data": {
      "text/plain": [
       "docplex.mp.Model['FTSP']"
      ]
     },
     "execution_count": 17,
     "metadata": {},
     "output_type": "execute_result"
    }
   ],
   "source": [
    "mdl = Model(\"FTSP\")\n",
    "\n",
    "xv = {(i, j, k): mdl.binary_var(name=f\"x_{i}_{j}_{k}\")\n",
    "     for i in N for j in N for k in K}\n",
    "\n",
    "yv = {(i, k): mdl.binary_var(name=f\"y_{i}_{k}\") for i in N for k in K}\n",
    "#yv.ub = 8\n",
    "\n",
    "mv = {(k): mdl.continuous_var(name=f\"m_{k}\") for k in K}\n",
    "\n",
    "uv = {(i): mdl.continuous_var(name=f\"u_{i}\") for i in N}\n",
    "\n",
    "mdl"
   ]
  },
  {
   "cell_type": "markdown",
   "metadata": {
    "id": "iXXMOXL80pMM"
   },
   "source": [
    "#Restrições VRP"
   ]
  },
  {
   "cell_type": "code",
   "execution_count": 18,
   "metadata": {},
   "outputs": [],
   "source": [
    "#relacão entre x e y - ok 3\n",
    "for i in N:\n",
    "      if i != 0:\n",
    "        for k in K:\n",
    "          mdl.add_constraint(yv[i, k] == mdl.sum(xv[i, j, k] for j in N if j != i), f\"constraint_y_{i}_{k}\")  \n",
    "\n",
    "#cada tarefa i é realizada por uma equipe k e sucedida por 1 tarefa j - ok 5\n",
    "for i in N:\n",
    "  if i != 0 and o[i] == 1:\n",
    "    mdl.add_constraint(mdl.sum(xv[i,j,k] for k in K for j in N) == 1)\n",
    "\n",
    "#cada equipe k sai e chega 1 vez na base - saída ok 4\n",
    "for k in K:\n",
    "    mdl.add_constraint(mdl.sum(xv[0, j, k] for j in N if j != 0) == 1, f\"constraint_y_{0}_{k}\")\n",
    "    mdl.add_constraint(mdl.sum(xv[i, 0, k] for i in N if i != 0) == 1)\n",
    "\n",
    "#balanceamento entre entradas e saidas - ok 6\n",
    "for k in K:\n",
    "    for i in N:\n",
    "        if i != 0:\n",
    "         mdl.add_constraint(mdl.sum(xv[j, i, k] for j in N if j != i) ==\n",
    "                           mdl.sum(xv[i, j, k] for j in N if j != i), f\"constraint_x_{i}_{k}\")\n",
    "\n",
    "#calculo makespan - ok 8\n",
    "for k in K:\n",
    "    mdl.add_constraint(mdl.sum(xv[i, j, k] * t[i][j] for i in N for j in N if j != i) == mv[k])\n",
    "\n",
    "\n",
    "#expediente (8 horas) - ok 9\n",
    "#for k in K:\n",
    "#    mdl.add_constraint(mv[k] <= 480)\n",
    "\n",
    "#previne arcos ii - ok 11\n",
    "for k in K:\n",
    "    for i in N:\n",
    "            mdl.add_constraint(xv[i, i, k] == 0)\n",
    "\n",
    "#mtz - subtour elimination - ok 7\n",
    "n=len(N)\n",
    "for k in K:\n",
    "    for i in N:\n",
    "        for j in N:\n",
    "            if i != j and i != 0 and j != 0:\n",
    "                mdl.add_constraint(uv[i]-uv[j]+n*xv[i,j,k] <= n-1)\n",
    "\n",
    "#habilidades - ok\n",
    "for i in N:\n",
    "    if i != 0:\n",
    "        for k in K:\n",
    "            mdl.add_constraint(yv[i,k] <= h[i][k])\n",
    "\n",
    "#desativar tarefas não obrigatórias - ok 10\n",
    "for i in N:\n",
    "    if i != 0 and o[i] == 0:\n",
    "        for k in K:\n",
    "            mdl.add_constraint(yv[i,k] == 0)"
   ]
  },
  {
   "cell_type": "code",
   "execution_count": 19,
   "metadata": {},
   "outputs": [],
   "source": [
    "#mdl.export_as_lp('teste.lp')"
   ]
  },
  {
   "cell_type": "markdown",
   "metadata": {
    "id": "LtnNsW3S00l7"
   },
   "source": [
    "#Função Objetivo"
   ]
  },
  {
   "cell_type": "code",
   "execution_count": 20,
   "metadata": {
    "id": "hArvC1iJ02aN"
   },
   "outputs": [],
   "source": [
    "mdl.minimize(mdl.max(mv[k] for k in K))"
   ]
  },
  {
   "cell_type": "code",
   "execution_count": 21,
   "metadata": {},
   "outputs": [
    {
     "data": {
      "text/plain": [
       "docplex.mp.solution.SolveSolution(obj=N/A,values={x_0_16_0:1,x_16_4_0:1,.."
      ]
     },
     "execution_count": 21,
     "metadata": {},
     "output_type": "execute_result"
    }
   ],
   "source": [
    "# Criando a solução inicial para o CPLEX com base na solução de vizinho mais próximo\n",
    "warm_start = mdl.new_solution()\n",
    "for k, route in enumerate(sol_closest_neighbor):\n",
    "    for i in range(len(route) - 1):\n",
    "        warm_start.add_var_value(xv[route[i], route[i+1], k], 1)\n",
    "\n",
    "# Adicionando a solução como warm start ao CPLEX\n",
    "mdl.add_mip_start(warm_start)"
   ]
  },
  {
   "cell_type": "code",
   "execution_count": 58,
   "metadata": {},
   "outputs": [],
   "source": [
    "#print(warm_start)"
   ]
  },
  {
   "cell_type": "markdown",
   "metadata": {
    "id": "sqEauMLa41Vj"
   },
   "source": [
    "#Solução"
   ]
  },
  {
   "cell_type": "code",
   "execution_count": 23,
   "metadata": {},
   "outputs": [
    {
     "name": "stdout",
     "output_type": "stream",
     "text": [
      "Version identifier: 22.1.1.0 | 2022-11-27 | 9160aff4d\n"
     ]
    },
    {
     "name": "stdout",
     "output_type": "stream",
     "text": [
      "CPXPARAM_Read_DataCheck                          1\n",
      "CPXPARAM_TimeLimit                               500\n",
      "Reduced MIP has 2166 rows, 2142 columns, and 14499 nonzeros.\n",
      "Reduced MIP has 2109 binaries, 0 generals, 0 SOSs, and 3 indicators.\n",
      "Presolve time = 0.03 sec. (0.80 ticks)\n",
      "1 of 1 MIP starts provided solutions.\n",
      "MIP start 'm1' defined initial solution with objective 483.4200.\n",
      "Tried aggregator 2 times.\n",
      "MIP Presolve eliminated 1414 rows and 1802 columns.\n",
      "MIP Presolve modified 453 coefficients.\n",
      "Aggregator did 3 substitutions.\n",
      "Reduced MIP has 749 rows, 332 columns, and 2825 nonzeros.\n",
      "Reduced MIP has 303 binaries, 0 generals, 0 SOSs, and 3 indicators.\n",
      "Presolve time = 0.09 sec. (6.07 ticks)\n",
      "Probing time = 0.03 sec. (1.77 ticks)\n",
      "Cover probing fixed 0 vars, tightened 7 bounds.\n",
      "Tried aggregator 1 time.\n",
      "Detecting symmetries...\n",
      "MIP Presolve added 55 rows and 0 columns.\n",
      "Reduced MIP has 804 rows, 332 columns, and 2935 nonzeros.\n",
      "Reduced MIP has 303 binaries, 0 generals, 0 SOSs, and 3 indicators.\n",
      "Presolve time = 0.03 sec. (2.08 ticks)\n",
      "Probing time = 0.02 sec. (1.87 ticks)\n",
      "Cover probing fixed 0 vars, tightened 4 bounds.\n",
      "Clique table members: 1609.\n",
      "MIP emphasis: balance optimality and feasibility.\n",
      "MIP search method: dynamic search.\n",
      "Parallel mode: deterministic, using up to 8 threads.\n",
      "Root relaxation solution time = 0.02 sec. (2.89 ticks)\n",
      "\n",
      "        Nodes                                         Cuts/\n",
      "   Node  Left     Objective  IInf  Best Integer    Best Bound    ItCnt     Gap\n",
      "\n",
      "*     0+    0                          483.4200      108.0600            77.65%\n",
      "      0     0      405.4896    45      483.4200      405.4896      105   16.12%\n",
      "      0     0      407.6148    50      483.4200      Cuts: 38      158   15.68%\n",
      "      0     0      408.1323    46      483.4200      Cuts: 11      178   15.57%\n",
      "      0     0      408.1982    50      483.4200      Cuts: 23      196   15.56%\n",
      "      0     0      408.2748    52      483.4200      Cuts: 14      210   15.54%\n",
      "      0     0      408.4152    64      483.4200      Cuts: 18      230   15.52%\n",
      "Detecting symmetries...\n",
      "      0     0      408.4370    63      483.4200      Cuts: 18      244   15.51%\n",
      "      0     0      408.5310    75      483.4200       Cuts: 8      258   15.49%\n",
      "      0     0      408.5340    71      483.4200       Cuts: 9      265   15.49%\n",
      "*     0+    0                          416.7400      408.5340             1.97%\n",
      "Detecting symmetries...\n",
      "      0     2      408.5340    70      416.7400      408.5340      265    1.97%\n",
      "Elapsed time = 0.81 sec. (111.55 ticks, tree = 0.02 MB, solutions = 2)\n",
      "   3359  1806      410.9851    45      416.7400      409.8510    29912    1.65%\n",
      "\n",
      "Performing restart 1\n",
      "\n",
      "Repeating presolve.\n",
      "Tried aggregator 1 time.\n",
      "MIP Presolve eliminated 59 rows and 4 columns.\n",
      "MIP Presolve modified 222 coefficients.\n",
      "Reduced MIP has 745 rows, 328 columns, and 2615 nonzeros.\n",
      "Reduced MIP has 299 binaries, 0 generals, 0 SOSs, and 3 indicators.\n",
      "Presolve time = 0.00 sec. (2.24 ticks)\n",
      "Tried aggregator 1 time.\n",
      "Reduced MIP has 745 rows, 328 columns, and 2615 nonzeros.\n",
      "Reduced MIP has 299 binaries, 0 generals, 0 SOSs, and 3 indicators.\n",
      "Presolve time = 0.02 sec. (1.62 ticks)\n",
      "Represolve time = 0.03 sec. (8.26 ticks)\n",
      "   3385     0      408.8322    73      416.7400      Cuts: 23    33370    1.63%\n",
      "   3385     0      408.8958    83      416.7400      Cuts: 15    33406    1.63%\n",
      "   3385     0      408.9865    65      416.7400      Cuts: 38    33444    1.63%\n",
      "   3385     0      409.0059    78      416.7400      Cuts: 26    33479    1.63%\n",
      "   3385     0      409.0298    84      416.7400      Cuts: 40    33522    1.48%\n",
      "   3385     0      409.0525    78      416.7400      Cuts: 25    33551    1.48%\n",
      "   3385     0      409.0795    82      416.7400      Cuts: 46    33585    1.48%\n",
      "   3385     2      409.0795    79      416.7400      411.1455    33585    1.34%\n",
      "   5452   768        cutoff            416.7400      412.8245    50033    0.94%\n",
      "\n",
      "GUB cover cuts applied:  1\n",
      "Clique cuts applied:  1\n",
      "Cover cuts applied:  19\n",
      "Implied bound cuts applied:  15\n",
      "Flow cuts applied:  13\n",
      "Mixed integer rounding cuts applied:  2\n",
      "Zero-half cuts applied:  16\n",
      "Lift and project cuts applied:  5\n",
      "Gomory fractional cuts applied:  7\n",
      "\n",
      "Root node processing (before b&c):\n",
      "  Real time             =    0.83 sec. (111.24 ticks)\n",
      "Parallel b&c, 8 threads:\n",
      "  Real time             =    4.73 sec. (1546.54 ticks)\n",
      "  Sync time (average)   =    0.51 sec.\n",
      "  Wait time (average)   =    0.01 sec.\n",
      "                          ------------\n",
      "Total (root+branch&cut) =    5.56 sec. (1657.78 ticks)\n"
     ]
    }
   ],
   "source": [
    "mdl.context.solver.log_output = True\n",
    "solution = mdl.solve(time_limit=500)"
   ]
  },
  {
   "cell_type": "code",
   "execution_count": 24,
   "metadata": {
    "colab": {
     "base_uri": "https://localhost:8080/",
     "height": 356
    },
    "id": "TOdYqutN40uM",
    "outputId": "07ab95f9-4142-44ba-d672-4609f5371a5f"
   },
   "outputs": [
    {
     "name": "stdout",
     "output_type": "stream",
     "text": [
      "solution for: FTSP\n",
      "objective: 416.740\n",
      "status: OPTIMAL_SOLUTION(2)\n",
      "x_0_8_2 = 1\n",
      "x_0_13_1 = 1\n",
      "x_0_16_0 = 1\n",
      "x_3_12_1 = 1\n",
      "x_4_14_0 = 1\n",
      "x_5_17_2 = 1\n",
      "x_6_10_0 = 1\n",
      "x_8_5_2 = 1\n",
      "x_9_15_2 = 1\n",
      "x_10_0_0 = 1\n",
      "x_12_0_1 = 1\n",
      "x_13_24_1 = 1\n",
      "x_14_6_0 = 1\n",
      "x_15_0_2 = 1\n",
      "x_16_4_0 = 1\n",
      "x_17_9_2 = 1\n",
      "x_24_3_1 = 1\n",
      "y_3_1 = 1\n",
      "y_4_0 = 1\n",
      "y_5_2 = 1\n",
      "y_6_0 = 1\n",
      "y_8_2 = 1\n",
      "y_9_2 = 1\n",
      "y_10_0 = 1\n",
      "y_12_1 = 1\n",
      "y_13_1 = 1\n",
      "y_14_0 = 1\n",
      "y_15_2 = 1\n",
      "y_16_0 = 1\n",
      "y_17_2 = 1\n",
      "y_24_1 = 1\n",
      "m_0 = 416.740\n",
      "m_1 = 414.100\n",
      "m_2 = 413.090\n",
      "u_3 = 2.000\n",
      "u_4 = 1.000\n",
      "u_5 = 1.000\n",
      "u_6 = 3.000\n",
      "u_9 = 3.000\n",
      "u_10 = 25.000\n",
      "u_12 = 25.000\n",
      "u_14 = 2.000\n",
      "u_15 = 4.000\n",
      "u_17 = 2.000\n",
      "u_24 = 1.000\n"
     ]
    }
   ],
   "source": [
    "# Exibir a solução\n",
    "if solution:\n",
    "    solution.display()\n",
    "else:\n",
    "    print(\"Nenhuma solução encontrada\")"
   ]
  },
  {
   "cell_type": "code",
   "execution_count": 25,
   "metadata": {},
   "outputs": [
    {
     "name": "stdout",
     "output_type": "stream",
     "text": [
      "Solutions for team 0:\n",
      "x[0, 16, 0] = 1.0\n",
      "x[4, 14, 0] = 1.0\n",
      "x[6, 10, 0] = 1.0\n",
      "x[10, 0, 0] = 1.0\n",
      "x[14, 6, 0] = 1.0\n",
      "x[16, 4, 0] = 1.0\n",
      "Solutions for team 1:\n",
      "x[0, 13, 1] = 1.0\n",
      "x[3, 12, 1] = 1.0\n",
      "x[12, 0, 1] = 1.0\n",
      "x[13, 24, 1] = 1.0\n",
      "x[24, 3, 1] = 1.0\n",
      "Solutions for team 2:\n",
      "x[0, 8, 2] = 1.0\n",
      "x[5, 17, 2] = 1.0\n",
      "x[8, 5, 2] = 1.0\n",
      "x[9, 15, 2] = 1.0\n",
      "x[15, 0, 2] = 1.0\n",
      "x[17, 9, 2] = 1.0\n"
     ]
    }
   ],
   "source": [
    "# Initialize dictionaries to store solutions for each team\n",
    "sol_x_teams = {k: {} for k in K}\n",
    "\n",
    "# Iterate through the solution dictionary and separate by team\n",
    "for (i, j, k), var in xv.items():\n",
    "    if solution.get_value(var) > 0.5:  # Assuming binary variables, check if the value is 1\n",
    "        sol_x_teams[k][(i, j)] = solution.get_value(var)\n",
    "\n",
    "# Print the solutions for each team\n",
    "for k in K:\n",
    "    print(f\"Solutions for team {k}:\")\n",
    "    for (i, j), value in sol_x_teams[k].items():\n",
    "        print(f\"x[{i}, {j}, {k}] = {value}\")"
   ]
  },
  {
   "cell_type": "code",
   "execution_count": 26,
   "metadata": {},
   "outputs": [
    {
     "name": "stdout",
     "output_type": "stream",
     "text": [
      "Rota da equipe 0: [0, 16, 4, 14, 6, 10, 0]\n",
      "Rota da equipe 1: [0, 13, 24, 3, 12, 0]\n",
      "Rota da equipe 2: [0, 8, 5, 17, 9, 15, 0]\n"
     ]
    }
   ],
   "source": [
    "# Inicializa o caminho para a equipe 0\n",
    "team_0_path = [0]  # Começa com a tarefa inicial (depósito, que é 0)\n",
    "\n",
    "# Função para sequenciar as soluções de equipe\n",
    "def get_team_path(team_solutions):\n",
    "    # Cria um dicionário para armazenar as transições (de i para j)\n",
    "    transitions = {}\n",
    "    for (i, j), value in team_solutions.items():\n",
    "        if value >= 0.5:  # Se a variável for 1, há uma transição de i para j\n",
    "            if i not in transitions:\n",
    "                transitions[i] = []\n",
    "            transitions[i].append(j)\n",
    "    \n",
    "    # Agora, monta o caminho começando do 0\n",
    "    path = [0]  # Começa do depósito\n",
    "    current_task = 0\n",
    "    \n",
    "    # Monta o caminho até retornar ao depósito\n",
    "    while len(path) < len(team_solutions) + 1:\n",
    "        if current_task in transitions:\n",
    "            next_task = transitions[current_task][0]  # Pega o próximo nó\n",
    "            path.append(next_task)\n",
    "            current_task = next_task\n",
    "        else:\n",
    "            break\n",
    "\n",
    "    return path\n",
    "\n",
    "# Inicializa o dicionário para armazenar os caminhos de todas as equipes\n",
    "team_paths = {}\n",
    "for k in K:\n",
    "    team_paths[k] = get_team_path(sol_x_teams[k])\n",
    "    print(f\"Rota da equipe {k}: {team_paths[k]}\")"
   ]
  },
  {
   "cell_type": "code",
   "execution_count": 27,
   "metadata": {},
   "outputs": [
    {
     "data": {
      "image/png": "[encoded data removed]",
      "text/plain": [
       "<Figure size 640x480 with 1 Axes>"
      ]
     },
     "metadata": {},
     "output_type": "display_data"
    }
   ],
   "source": [
    "# Inicializando um dicionário para armazenar as soluções por equipe\n",
    "sol_x_teams_1 = {k: [] for k in K}\n",
    "\n",
    "# Iterando pelo dicionário da solução e separando as rotas por equipe\n",
    "for (i, j, k), var in xv.items():\n",
    "    if var.solution_value > 0.5:  # Verificando se a variável está ativa na solução\n",
    "        sol_x_teams_1[k].append((i, j))\n",
    "\n",
    "desenhar_solucao(sol_x_teams_1, coord_x, coord_y)\n"
   ]
  },
  {
   "cell_type": "code",
   "execution_count": 28,
   "metadata": {},
   "outputs": [
    {
     "data": {
      "image/png": "[encoded data removed]",
      "text/plain": [
       "<Figure size 1000x600 with 1 Axes>"
      ]
     },
     "metadata": {},
     "output_type": "display_data"
    }
   ],
   "source": [
    "import matplotlib.pyplot as plt\n",
    "\n",
    "# Extract the makespan values for each team\n",
    "makespan_values = [solution.get_value(mv[k]) for k in K]\n",
    "\n",
    "# Create a horizontal bar chart\n",
    "plt.figure(figsize=(10, 6))\n",
    "plt.xlim(0, 500)\n",
    "plt.axvline(x=480, color='red', linestyle='--', linewidth=1, label='Expediente')\n",
    "plt.barh(range(len(K)), makespan_values, color='skyblue')\n",
    "plt.yticks(range(len(K)), [f'Equipe {k}' for k in K], fontsize=12)\n",
    "plt.xlabel('Makespan (minutos)', fontsize=12)\n",
    "plt.title('Makespan das Equipes', fontsize=17)\n",
    "plt.grid(axis='x', linestyle='--', alpha=0.7,)\n",
    "plt.show()"
   ]
  },
  {
   "cell_type": "code",
   "execution_count": 65,
   "metadata": {},
   "outputs": [
    {
     "name": "stdout",
     "output_type": "stream",
     "text": [
      "Solution status:\n",
      "101 integer optimal solution\n"
     ]
    }
   ],
   "source": [
    "print(\"Solution status:\")\n",
    "print(solution.solve_details.status_code, solution.solve_details.status)"
   ]
  },
  {
   "cell_type": "markdown",
   "metadata": {},
   "source": [
    "# PCVRP"
   ]
  },
  {
   "cell_type": "code",
   "execution_count": 66,
   "metadata": {},
   "outputs": [
    {
     "data": {
      "text/plain": [
       "docplex.mp.Model['FTSP_PCVRP']"
      ]
     },
     "execution_count": 66,
     "metadata": {},
     "output_type": "execute_result"
    }
   ],
   "source": [
    "mdlp = Model(\"FTSP_PCVRP\")\n",
    "\n",
    "x = {(i, j, k): mdlp.binary_var(name=f\"x_{i}_{j}_{k}\")\n",
    "     for i in N for j in N for k in K}\n",
    "\n",
    "y = {(i, k): mdlp.binary_var(name=f\"y_{i}_{k}\") for i in N for k in K}\n",
    "\n",
    "m = {(k): mdlp.continuous_var(name=f\"m_{k}\") for k in K}\n",
    "\n",
    "u= {(i): mdlp.continuous_var(name=f\"u_{i}\") for i in N}\n",
    "\n",
    "mdlp"
   ]
  },
  {
   "cell_type": "markdown",
   "metadata": {},
   "source": [
    "## Restrições PCVPRP"
   ]
  },
  {
   "cell_type": "code",
   "execution_count": 67,
   "metadata": {},
   "outputs": [
    {
     "data": {
      "text/plain": [
       "'\\nlist = [x[0, 30, 0], x[30, 35, 0], x[35, 27, 0],\\n        x[0,10,1], x[10,15,1], x[15,3,1], x[3,17,1], x[17,14,1], x[14,26,1], x[26,16,1],\\n        x[0,8,2], x[8,29,2], x[29,31,2], x[31,33,2],\\n        x[0,9,3], x[9,28,3], x[28,32,3],\\n        x[0,5,4], x[5,7,4], x[7,12,4], x[12,13,4], x[13,6,4], x[6,24,4], x[24,4,4],\\n        y[30,0], y[35,0], y[27,0],\\n        y[10,1], y[15,1], y[3,1], y[17,1], y[14,1], y[26,1], y[16,1],\\n        y[8,2], y[29,2], y[31,2], y[33,2],\\n        y[9,3], y[28,3], y[32,3],\\n        y[5,4], y[7,4], y[12,4], y[13,4], y[6,4], y[24,4], y[4,4]]\\n\\nfor i in list:\\n    mdlp.add_constraint(i == 1)\\n'"
      ]
     },
     "execution_count": 67,
     "metadata": {},
     "output_type": "execute_result"
    }
   ],
   "source": [
    "#relacão entre x e y\n",
    "for i in N:\n",
    "      if i != 0:\n",
    "        for k in K:\n",
    "          mdlp.add_constraint(y[i, k] == mdlp.sum(x[i, j, k] for j in N if j != i), f\"constraint_y_{i}_{k}\")  \n",
    "\n",
    "#cada tarefa i é realizada no máximo por uma equipe k e sucedida por 1 tarefa j\n",
    "for i in N:\n",
    "  if i != 0:\n",
    "    mdlp.add_constraint(mdlp.sum(x[i,j,k] for k in K for j in N) <= 1)\n",
    "\n",
    "#cada equipe k sai e chega 1 vez na base\n",
    "for k in K:\n",
    "    mdlp.add_constraint(mdlp.sum(x[0, j, k] for j in N if j != 0) == 1, f\"constraint_y_{0}_{k}\")\n",
    "    mdlp.add_constraint(mdlp.sum(x[i, 0, k] for i in N if i != 0) == 1)\n",
    "\n",
    "#balanceamento entre entradas e saidas\n",
    "for k in K:\n",
    "    for i in N:\n",
    "        if i != 0:\n",
    "         mdlp.add_constraint(mdlp.sum(x[j, i, k] for j in N if j != i) ==\n",
    "                           mdlp.sum(x[i, j, k] for j in N if j != i))\n",
    "\n",
    "#calculo makespan\n",
    "for k in K:\n",
    "    mdlp.add_constraint(mdlp.sum(x[i, j, k] * t[i][j] for i in N for j in N if j != i) == m[k])\n",
    "\n",
    "#expedinte (8 horas = 480 minutos)\n",
    "for k in K:\n",
    "    mdlp.add_constraint(m[k] <= 480)\n",
    "\n",
    "#previne arcos ii\n",
    "for k in K:\n",
    "    for i in N:\n",
    "            mdlp.add_constraint(x[i, i, k] == 0)\n",
    "\n",
    "#mtz - subtour elimination\n",
    "n=len(N)\n",
    "for k in K:\n",
    "    for i in N:\n",
    "        for j in N:\n",
    "            if i != j and i != 0 and j != 0:\n",
    "                mdlp.add_constraint(u[i]-u[j]+n*x[i,j,k] <= n-1)\n",
    "\n",
    "#habilidades\n",
    "for i in N:\n",
    "    if i != 0:\n",
    "        for k in K:\n",
    "            mdlp.add_constraint(y[i,k] <= h[i][k])\n",
    "\n",
    "#atrbuir x[i, j, k] = 1 se x[i, j, k] > 0.5 na primeira solução - ok\n",
    "for i in N:\n",
    "    for j in N:\n",
    "        if j!=0:\n",
    "            for k in K:\n",
    "                if xv[i,j,k].solution_value >= 0.5:\n",
    "                    mdlp.add_constraint(x[i,j,k] == 1, f\"constraint_x_{i}_{j}_{k}_1\")\n",
    "\n",
    "\n",
    "# Atribuir y[i, k] = 1 se y[i, k] > 0.5 na primeira solução - ok\n",
    "for i in N:\n",
    "    for k in K:\n",
    "        if yv[i,k].solution_value >= 0.5:\n",
    "            mdlp.add_constraint(y[i,k] == 1, f\"constraint_y_{i}_{k}_1\")\n",
    "\n",
    "'''\n",
    "list = [x[0, 30, 0], x[30, 35, 0], x[35, 27, 0],\n",
    "        x[0,10,1], x[10,15,1], x[15,3,1], x[3,17,1], x[17,14,1], x[14,26,1], x[26,16,1],\n",
    "        x[0,8,2], x[8,29,2], x[29,31,2], x[31,33,2],\n",
    "        x[0,9,3], x[9,28,3], x[28,32,3],\n",
    "        x[0,5,4], x[5,7,4], x[7,12,4], x[12,13,4], x[13,6,4], x[6,24,4], x[24,4,4],\n",
    "        y[30,0], y[35,0], y[27,0],\n",
    "        y[10,1], y[15,1], y[3,1], y[17,1], y[14,1], y[26,1], y[16,1],\n",
    "        y[8,2], y[29,2], y[31,2], y[33,2],\n",
    "        y[9,3], y[28,3], y[32,3],\n",
    "        y[5,4], y[7,4], y[12,4], y[13,4], y[6,4], y[24,4], y[4,4]]\n",
    "\n",
    "for i in list:\n",
    "    mdlp.add_constraint(i == 1)\n",
    "'''"
   ]
  },
  {
   "cell_type": "code",
   "execution_count": 68,
   "metadata": {},
   "outputs": [],
   "source": [
    "mdlp.maximize(mdlp.sum(y[i,k]*p[i] for i in N for k in K))"
   ]
  },
  {
   "cell_type": "code",
   "execution_count": 69,
   "metadata": {},
   "outputs": [
    {
     "name": "stdout",
     "output_type": "stream",
     "text": [
      "Version identifier: 22.1.1.0 | 2022-11-27 | 9160aff4d\n",
      "CPXPARAM_Read_DataCheck                          1\n",
      "CPXPARAM_TimeLimit                               3600\n",
      "Tried aggregator 2 times.\n",
      "MIP Presolve eliminated 1551 rows and 2089 columns.\n",
      "MIP Presolve modified 28 coefficients.\n",
      "Aggregator did 12 substitutions.\n",
      "Reduced MIP has 605 rows, 34 columns, and 1220 nonzeros.\n",
      "Reduced MIP has 9 binaries, 0 generals, 0 SOSs, and 0 indicators.\n",
      "Presolve time = 0.01 sec. (3.93 ticks)\n",
      "Found incumbent of value 84.000000 after 0.03 sec. (5.45 ticks)\n",
      "Probing time = 0.00 sec. (0.02 ticks)\n",
      "Tried aggregator 1 time.\n",
      "Detecting symmetries...\n",
      "MIP Presolve added 28 rows and 0 columns.\n"
     ]
    },
    {
     "name": "stdout",
     "output_type": "stream",
     "text": [
      "Reduced MIP has 633 rows, 34 columns, and 1276 nonzeros.\n",
      "Reduced MIP has 9 binaries, 0 generals, 0 SOSs, and 0 indicators.\n",
      "Presolve time = 0.02 sec. (0.79 ticks)\n",
      "Probing time = 0.00 sec. (0.02 ticks)\n",
      "Clique table members: 5.\n",
      "MIP emphasis: balance optimality and feasibility.\n",
      "MIP search method: dynamic search.\n",
      "Parallel mode: deterministic, using up to 8 threads.\n",
      "Root relaxation solution time = 0.00 sec. (0.96 ticks)\n",
      "\n",
      "        Nodes                                         Cuts/\n",
      "   Node  Left     Objective  IInf  Best Integer    Best Bound    ItCnt     Gap\n",
      "\n",
      "*     0+    0                           84.0000      111.0000            32.14%\n",
      "      0     0      100.0000     4       84.0000      100.0000        7   19.05%\n",
      "*     0+    0                           91.0000      100.0000             9.89%\n",
      "*     0+    0                          100.0000      100.0000             0.00%\n",
      "      0     0        cutoff            100.0000      100.0000        7    0.00%\n",
      "Elapsed time = 0.08 sec. (8.63 ticks, tree = 0.01 MB, solutions = 3)\n",
      "\n",
      "Root node processing (before b&c):\n",
      "  Real time             =    0.08 sec. (8.73 ticks)\n",
      "Parallel b&c, 8 threads:\n",
      "  Real time             =    0.00 sec. (0.00 ticks)\n",
      "  Sync time (average)   =    0.00 sec.\n",
      "  Wait time (average)   =    0.00 sec.\n",
      "                          ------------\n",
      "Total (root+branch&cut) =    0.08 sec. (8.73 ticks)\n"
     ]
    }
   ],
   "source": [
    "mdlp.context.solver.log_output = True\n",
    "solution_p = mdlp.solve(time_limit=3600)"
   ]
  },
  {
   "cell_type": "code",
   "execution_count": 70,
   "metadata": {},
   "outputs": [
    {
     "name": "stdout",
     "output_type": "stream",
     "text": [
      "solution for: FTSP_PCVRP\n",
      "objective: 100\n",
      "status: OPTIMAL_SOLUTION(2)\n",
      "x_0_8_2 = 1\n",
      "x_0_13_1 = 1\n",
      "x_0_16_0 = 1\n",
      "x_1_0_2 = 1\n",
      "x_3_12_1 = 1\n",
      "x_4_14_0 = 1\n",
      "x_5_17_2 = 1\n",
      "x_6_10_0 = 1\n",
      "x_8_5_2 = 1\n",
      "x_9_15_2 = 1\n",
      "x_10_22_0 = 1\n",
      "x_12_21_1 = 1\n",
      "x_13_24_1 = 1\n",
      "x_14_6_0 = 1\n",
      "x_15_1_2 = 1\n",
      "x_16_4_0 = 1\n",
      "x_17_9_2 = 1\n",
      "x_21_0_1 = 1\n",
      "x_22_0_0 = 1\n",
      "x_24_3_1 = 1\n",
      "y_1_2 = 1\n",
      "y_3_1 = 1\n",
      "y_4_0 = 1\n",
      "y_5_2 = 1\n",
      "y_6_0 = 1\n",
      "y_8_2 = 1\n",
      "y_9_2 = 1\n",
      "y_10_0 = 1\n",
      "y_12_1 = 1\n",
      "y_13_1 = 1\n",
      "y_14_0 = 1\n",
      "y_15_2 = 1\n",
      "y_16_0 = 1\n",
      "y_17_2 = 1\n",
      "y_21_1 = 1\n",
      "y_22_0 = 1\n",
      "y_24_1 = 1\n",
      "m_0 = 476.250\n",
      "m_1 = 470.220\n",
      "m_2 = 475.730\n",
      "u_1 = 5.000\n",
      "u_3 = 2.000\n",
      "u_4 = 1.000\n",
      "u_5 = 1.000\n",
      "u_6 = 3.000\n",
      "u_9 = 3.000\n",
      "u_10 = 4.000\n",
      "u_12 = 3.000\n",
      "u_14 = 2.000\n",
      "u_15 = 4.000\n",
      "u_17 = 2.000\n",
      "u_21 = 4.000\n",
      "u_22 = 5.000\n",
      "u_24 = 1.000\n"
     ]
    }
   ],
   "source": [
    "# Exibir a solução\n",
    "if solution_p:\n",
    "    solution_p.display()\n",
    "else:\n",
    "    print(\"Nenhuma solução encontrada\")"
   ]
  },
  {
   "cell_type": "code",
   "execution_count": 71,
   "metadata": {},
   "outputs": [
    {
     "name": "stdout",
     "output_type": "stream",
     "text": [
      "Solutions for team 0:\n",
      "x[0, 16, 0] = 1.0\n",
      "x[4, 14, 0] = 1.0\n",
      "x[6, 10, 0] = 1.0\n",
      "x[10, 22, 0] = 1.0\n",
      "x[14, 6, 0] = 1.0\n",
      "x[16, 4, 0] = 1.0\n",
      "x[22, 0, 0] = 1.0\n",
      "Solutions for team 1:\n",
      "x[0, 13, 1] = 1.0\n",
      "x[3, 12, 1] = 1.0\n",
      "x[12, 21, 1] = 1.0\n",
      "x[13, 24, 1] = 1.0\n",
      "x[21, 0, 1] = 1.0\n",
      "x[24, 3, 1] = 1.0\n",
      "Solutions for team 2:\n",
      "x[0, 8, 2] = 1.0\n",
      "x[1, 0, 2] = 1.0\n",
      "x[5, 17, 2] = 1.0\n",
      "x[8, 5, 2] = 1.0\n",
      "x[9, 15, 2] = 1.0\n",
      "x[15, 1, 2] = 1.0\n",
      "x[17, 9, 2] = 1.0\n"
     ]
    }
   ],
   "source": [
    "# Initialize dictionaries to store solutions for each team\n",
    "sol_x_teams_2 = {k: {} for k in K}\n",
    "\n",
    "# Iterate through the solution dictionary and separate by team\n",
    "for (i, j, k), var in x.items():\n",
    "    if solution_p.get_value(var) > 0.5:  # Assuming binary variables, check if the value is 1\n",
    "        sol_x_teams_2[k][(i, j)] = solution_p.get_value(var)\n",
    "\n",
    "# Print the solutions for each team\n",
    "for k in K:\n",
    "    print(f\"Solutions for team {k}:\")\n",
    "    for (i, j), value in sol_x_teams_2[k].items():\n",
    "        print(f\"x[{i}, {j}, {k}] = {value}\")"
   ]
  },
  {
   "cell_type": "code",
   "execution_count": 72,
   "metadata": {},
   "outputs": [
    {
     "name": "stdout",
     "output_type": "stream",
     "text": [
      "Rota da equipe 0: [0, 16, 4, 14, 6, 10, 22, 0]\n",
      "Rota da equipe 1: [0, 13, 24, 3, 12, 21, 0]\n",
      "Rota da equipe 2: [0, 8, 5, 17, 9, 15, 1, 0]\n"
     ]
    }
   ],
   "source": [
    "# Inicializa o dicionário para armazenar os caminhos de todas as equipes\n",
    "team_paths_PCVRP = {}\n",
    "for k in K:\n",
    "    team_paths_PCVRP[k] = get_team_path(sol_x_teams_2[k])\n",
    "    print(f\"Rota da equipe {k}: {team_paths_PCVRP[k]}\")"
   ]
  },
  {
   "cell_type": "code",
   "execution_count": 73,
   "metadata": {},
   "outputs": [
    {
     "data": {
      "image/png": "[encoded data removed]",
      "text/plain": [
       "<Figure size 640x480 with 1 Axes>"
      ]
     },
     "metadata": {},
     "output_type": "display_data"
    }
   ],
   "source": [
    "# Inicializando um dicionário para armazenar as soluções por equipe\n",
    "sol_x_teams_3 = {k: [] for k in K}\n",
    "\n",
    "# Iterando pelo dicionário da solução e separando as rotas por equipe\n",
    "for (i, j, k), var in x.items():\n",
    "    if var.solution_value > 0.5:  # Verificando se a variável está ativa na solução\n",
    "        sol_x_teams_3[k].append((i, j))\n",
    "\n",
    "desenhar_solucao(sol_x_teams_3, coord_x, coord_y)"
   ]
  },
  {
   "cell_type": "code",
   "execution_count": 87,
   "metadata": {},
   "outputs": [
    {
     "data": {
      "image/png": "[encoded data removed]",
      "text/plain": [
       "<Figure size 1000x600 with 1 Axes>"
      ]
     },
     "metadata": {},
     "output_type": "display_data"
    }
   ],
   "source": [
    "import matplotlib.pyplot as plt\n",
    "\n",
    "# Extract the makespan values for each team\n",
    "makespan_values = [solution_p.get_value(m[k]) for k in K]\n",
    "\n",
    "# Create a horizontal bar chart\n",
    "plt.figure(figsize=(10, 6))\n",
    "plt.xlim(0, 500)\n",
    "plt.axvline(x=480, color='red', linestyle='--', linewidth=1, label='Expediente')\n",
    "plt.barh(range(len(K)), makespan_values, color='skyblue')\n",
    "plt.yticks(range(len(K)), [f'Equipe {k}' for k in K], fontsize=12)\n",
    "plt.xlabel('Makespan (minutos)', fontsize=12)\n",
    "plt.title('Makespan das Equipes',fontsize=17)\n",
    "plt.grid(axis='x', linestyle='--', alpha=0.7)\n",
    "plt.show()"
   ]
  },
  {
   "cell_type": "code",
   "execution_count": 75,
   "metadata": {},
   "outputs": [
    {
     "name": "stdout",
     "output_type": "stream",
     "text": [
      "Valor da solução encontrada: 100.0\n"
     ]
    }
   ],
   "source": [
    "# Verificar se a solução foi encontrada e exibir o valor da função objetivo\n",
    "if solution_p:\n",
    "    print(\"Valor da solução encontrada:\", solution_p.objective_value)\n",
    "else:\n",
    "    print(\"Nenhuma solução encontrada\")"
   ]
  },
  {
   "cell_type": "code",
   "execution_count": 76,
   "metadata": {},
   "outputs": [
    {
     "name": "stdout",
     "output_type": "stream",
     "text": [
      "101 integer optimal solution\n"
     ]
    }
   ],
   "source": [
    "print(solution_p.solve_details.status_code, solution_p.solve_details.status)"
   ]
  }
 ],
 "metadata": {
  "colab": {
   "provenance": []
  },
  "kernelspec": {
   "display_name": "Python 3",
   "name": "python3"
  },
  "language_info": {
   "codemirror_mode": {
    "name": "ipython",
    "version": 3
   },
   "file_extension": ".py",
   "mimetype": "text/x-python",
   "name": "python",
   "nbconvert_exporter": "python",
   "pygments_lexer": "ipython3",
   "version": "3.10.11"
  }
 },
 "nbformat": 4,
 "nbformat_minor": 0
}
